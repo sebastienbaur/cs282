{
 "cells": [
  {
   "cell_type": "code",
   "execution_count": 2,
   "metadata": {},
   "outputs": [
    {
     "ename": "ImportError",
     "evalue": "cannot import name 'pylot'",
     "output_type": "error",
     "traceback": [
      "\u001b[1;31m---------------------------------------------------------------------------\u001b[0m",
      "\u001b[1;31mImportError\u001b[0m                               Traceback (most recent call last)",
      "\u001b[1;32m<ipython-input-2-e0dc377e9b33>\u001b[0m in \u001b[0;36m<module>\u001b[1;34m()\u001b[0m\n\u001b[1;32m----> 1\u001b[1;33m \u001b[1;32mfrom\u001b[0m \u001b[0mmatplotlib\u001b[0m \u001b[1;32mimport\u001b[0m \u001b[0mpylot\u001b[0m \u001b[1;32mas\u001b[0m \u001b[0mplt\u001b[0m\u001b[1;33m\u001b[0m\u001b[0m\n\u001b[0m\u001b[0;32m      2\u001b[0m \u001b[1;32mfrom\u001b[0m \u001b[0micnn\u001b[0m \u001b[1;32mimport\u001b[0m \u001b[0mICNN\u001b[0m\u001b[1;33m\u001b[0m\u001b[0m\n\u001b[0;32m      3\u001b[0m \u001b[1;32mimport\u001b[0m \u001b[0mtorch\u001b[0m \u001b[1;32mas\u001b[0m \u001b[0mt\u001b[0m\u001b[1;33m\u001b[0m\u001b[0m\n\u001b[0;32m      4\u001b[0m \u001b[1;32mimport\u001b[0m \u001b[0mnumpy\u001b[0m \u001b[1;32mas\u001b[0m \u001b[0mnp\u001b[0m\u001b[1;33m\u001b[0m\u001b[0m\n\u001b[0;32m      5\u001b[0m \u001b[1;32mfrom\u001b[0m \u001b[0mutils\u001b[0m \u001b[1;32mimport\u001b[0m \u001b[0mvariable\u001b[0m\u001b[1;33m\u001b[0m\u001b[0m\n",
      "\u001b[1;31mImportError\u001b[0m: cannot import name 'pylot'"
     ]
    }
   ],
   "source": [
    "from matplotlib import pyplot as plt\n",
    "from icnn import ICNN\n",
    "import torch as t\n",
    "import numpy as np\n",
    "from utils import variable"
   ]
  },
  {
   "cell_type": "code",
   "execution_count": null,
   "metadata": {},
   "outputs": [],
   "source": [
    "class ICNN(t.nn.Module):\n",
    "    \"\"\"\n",
    "    CONCAVE Q network\n",
    "    \"\"\"\n",
    "    def __init__(self, n_layers, hidden_dim, activation=SELU()):\n",
    "        super(ICNN, self).__init__()\n",
    "        self.n_layers = n_layers\n",
    "        self.hidden_dim = hidden_dim\n",
    "        self.activation = activation\n",
    "        for l in range(n_layers - 1):\n",
    "            setattr(self, 'u' + str(l), t.nn.Linear(hidden_dim, hidden_dim))\n",
    "\n",
    "        for l in range(n_layers):\n",
    "            output_dim = (l < n_layers - 1) * hidden_dim + (l == n_layers - 1) * 1\n",
    "            setattr(self, 'z_u' + str(l), t.nn.Linear(hidden_dim, output_dim))\n",
    "            setattr(self, 'z_au' + str(l), t.nn.Linear(hidden_dim, 2))\n",
    "            setattr(self, 'z_au_' + str(l), t.nn.Linear(2, output_dim, bias=False))\n",
    "            if l > 0:\n",
    "                setattr(self, 'z_zu' + str(l), t.nn.Linear(hidden_dim, hidden_dim))\n",
    "                setattr(self, 'z_zu_' + str(l), t.nn.Linear(hidden_dim, output_dim, bias=False))\n",
    "\n",
    "    def forward(self, s, a):\n",
    "        u = s\n",
    "        for l in range(self.n_layers):\n",
    "            if l < self.n_layers - 1:\n",
    "                fc = getattr(self, 'u' + str(l))\n",
    "                u = self.activation(fc(u))\n",
    "            if l == 0:\n",
    "                fc_u = getattr(self, 'z_u' + str(l))\n",
    "                fc_au_ = getattr(self, 'z_au_' + str(l))\n",
    "                fc_au = getattr(self, 'z_au' + str(l))\n",
    "                z = self.activation(fc_u(u) + fc_au_(fc_au(u) * a))\n",
    "            else:\n",
    "                fc_u = getattr(self, 'z_u' + str(l))\n",
    "                fc_au_ = getattr(self, 'z_au_' + str(l))\n",
    "                fc_au = getattr(self, 'z_au' + str(l))\n",
    "                fc_zu_ = getattr(self, 'z_zu_' + str(l))\n",
    "                fc_zu = getattr(self, 'z_zu' + str(l))\n",
    "                z = fc_u(u) + fc_au_(fc_au(u) * a) + fc_zu_(ReLU()(fc_zu(u)) * z)\n",
    "                if l < self.n_layers - 1:\n",
    "                    z = self.activation(z)\n",
    "        return -z\n",
    "\n",
    "    def make_cvx(self):\n",
    "        \"\"\"Make the neural network convex by absoluvaluing its W_zu weights\"\"\"\n",
    "        for l in range(1, self.n_layers):\n",
    "            self._modules['z_zu_' + str(l)].weight = t.nn.Parameter(data=t.abs(self._modules['z_zu_' + str(l)].weight.data))\n",
    "\n",
    "    def proj(self):\n",
    "        \"\"\"If some weights became positive, set them to 0\"\"\"\n",
    "        for l in range(1, self.n_layers):\n",
    "            self._modules['z_zu_' + str(l)].weight = t.nn.Parameter(data=.5 * (t.abs(self._modules['z_zu_' + str(l)].weight.data) + self._modules['z_zu_' + str(l)].weight.data))\n"
   ]
  },
  {
   "cell_type": "code",
   "execution_count": 3,
   "metadata": {},
   "outputs": [
    {
     "ename": "NameError",
     "evalue": "name 'plt' is not defined",
     "output_type": "error",
     "traceback": [
      "\u001b[1;31m---------------------------------------------------------------------------\u001b[0m",
      "\u001b[1;31mNameError\u001b[0m                                 Traceback (most recent call last)",
      "\u001b[1;32m<ipython-input-3-60bd3eb4054b>\u001b[0m in \u001b[0;36m<module>\u001b[1;34m()\u001b[0m\n\u001b[1;32m----> 1\u001b[1;33m \u001b[0mplt\u001b[0m\u001b[1;33m.\u001b[0m\u001b[0mrcParams\u001b[0m\u001b[1;33m[\u001b[0m\u001b[1;34m'figure.figsize'\u001b[0m\u001b[1;33m]\u001b[0m \u001b[1;33m=\u001b[0m \u001b[1;33m(\u001b[0m\u001b[1;36m15\u001b[0m\u001b[1;33m,\u001b[0m\u001b[1;36m6\u001b[0m\u001b[1;33m)\u001b[0m\u001b[1;33m\u001b[0m\u001b[0m\n\u001b[0m\u001b[0;32m      2\u001b[0m \u001b[0mfig\u001b[0m\u001b[1;33m,\u001b[0m \u001b[0maxes\u001b[0m \u001b[1;33m=\u001b[0m \u001b[0mplt\u001b[0m\u001b[1;33m.\u001b[0m\u001b[0msubplots\u001b[0m\u001b[1;33m(\u001b[0m\u001b[1;36m4\u001b[0m\u001b[1;33m,\u001b[0m\u001b[1;36m10\u001b[0m\u001b[1;33m)\u001b[0m\u001b[1;33m\u001b[0m\u001b[0m\n\u001b[0;32m      3\u001b[0m \u001b[0micnn\u001b[0m \u001b[1;33m=\u001b[0m \u001b[0mICNN\u001b[0m\u001b[1;33m(\u001b[0m\u001b[1;36m4\u001b[0m\u001b[1;33m,\u001b[0m\u001b[1;36m50\u001b[0m\u001b[1;33m)\u001b[0m\u001b[1;33m\u001b[0m\u001b[0m\n\u001b[0;32m      4\u001b[0m \u001b[0micnn\u001b[0m\u001b[1;33m.\u001b[0m\u001b[0mmake_cvx\u001b[0m\u001b[1;33m(\u001b[0m\u001b[1;33m)\u001b[0m\u001b[1;33m\u001b[0m\u001b[0m\n\u001b[0;32m      5\u001b[0m \u001b[1;32mfor\u001b[0m \u001b[0mi\u001b[0m \u001b[1;32min\u001b[0m \u001b[0mrange\u001b[0m\u001b[1;33m(\u001b[0m\u001b[1;36m4\u001b[0m\u001b[1;33m)\u001b[0m\u001b[1;33m:\u001b[0m\u001b[1;33m\u001b[0m\u001b[0m\n",
      "\u001b[1;31mNameError\u001b[0m: name 'plt' is not defined"
     ]
    }
   ],
   "source": [
    "plt.rcParams['figure.figsize'] = (15,6)\n",
    "fig, axes = plt.subplots(4,10)\n",
    "icnn = ICNN(4,50)\n",
    "icnn.make_cvx()\n",
    "for i in range(4):\n",
    "    for j in range(10):\n",
    "        state = variable(np.concatenate(100*[np.random.normal(size=(1,50))], 0)).float()\n",
    "        actions = variable(np.array([[a,0.] for a in np.arange(-100,100,2.)])).float()\n",
    "        Qvalues = icnn.forward(state, actions).data.numpy()\n",
    "        axes[i,j].plot(Qvalues)\n",
    "        axes[i,j].get_xaxis().set_visible(False)\n",
    "        axes[i,j].get_yaxis().set_visible(False)\n",
    "plt.show()\n"
   ]
  },
  {
   "cell_type": "code",
   "execution_count": null,
   "metadata": {
    "collapsed": true
   },
   "outputs": [],
   "source": []
  }
 ],
 "metadata": {
  "kernelspec": {
   "display_name": "Python 3",
   "language": "python",
   "name": "python3"
  },
  "language_info": {
   "codemirror_mode": {
    "name": "ipython",
    "version": 3
   },
   "file_extension": ".py",
   "mimetype": "text/x-python",
   "name": "python",
   "nbconvert_exporter": "python",
   "pygments_lexer": "ipython3",
   "version": "3.6.2"
  }
 },
 "nbformat": 4,
 "nbformat_minor": 2
}
