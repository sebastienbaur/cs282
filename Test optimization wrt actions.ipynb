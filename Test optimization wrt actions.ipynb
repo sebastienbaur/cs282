{
 "cells": [
  {
   "cell_type": "markdown",
   "metadata": {},
   "source": [
    "The function `gradient_step_action` should allow to optimize Q wrt to actions\n",
    "\n",
    "This is a quick visual example to make sure it is the case"
   ]
  },
  {
   "cell_type": "code",
   "execution_count": null,
   "metadata": {
    "collapsed": true
   },
   "outputs": [],
   "source": [
    "from models import variable, ICNN, gradient_step_action\n",
    "import torch as torch\n",
    "from matplotlib import pyplot as plt\n",
    "import numpy as np"
   ]
  },
  {
   "cell_type": "code",
   "execution_count": null,
   "metadata": {
    "collapsed": true
   },
   "outputs": [],
   "source": [
    "a = variable(np.zeros((1,2)), requires_grad=True).float()\n",
    "s = variable(np.zeros((1,50))).float()\n",
    "q = ICNN(4, 50)\n",
    "\n",
    "plt.rcParams['figure.figsize'] = (5,5)\n",
    "actions = variable(np.array([[a,0.] for a in np.arange(-100,100,2.)])).float()\n",
    "Qvalues = q.forward(t.cat(100*[s]), actions).data.numpy()\n",
    "plt.plot(np.arange(-100,100,2.),Qvalues)\n",
    "plt.show()\n",
    "\n",
    "input_param = t.nn.Parameter(a.data)\n",
    "optimizer = t.optim.Adam([input_param], lr=1.)\n",
    "for k in range(1000):\n",
    "    a, input_param, optimizer = gradient_step_action(q, s, a, input_param=input_param, optimizer=optimizer)\n",
    "    if k%100 == 0:\n",
    "        print(a.data.numpy()[0], q.forward(s,a).data.numpy()[0])"
   ]
  }
 ],
 "metadata": {
  "kernelspec": {
   "display_name": "Python 3",
   "language": "python",
   "name": "python3"
  },
  "language_info": {
   "codemirror_mode": {
    "name": "ipython",
    "version": 3
   },
   "file_extension": ".py",
   "mimetype": "text/x-python",
   "name": "python",
   "nbconvert_exporter": "python",
   "pygments_lexer": "ipython3",
   "version": "3.6.2"
  }
 },
 "nbformat": 4,
 "nbformat_minor": 2
}
