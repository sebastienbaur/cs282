{
 "cells": [
  {
   "cell_type": "markdown",
   "metadata": {},
   "source": [
    "This shows how can data can be extracted from Sepsis_imp.csv and processed to be passed as inputs of a neural network"
   ]
  },
  {
   "cell_type": "code",
   "execution_count": 1,
   "metadata": {
    "collapsed": true
   },
   "outputs": [],
   "source": [
    "import pandas as pd\n",
    "from parse_dataset import *\n",
    "from tqdm import tqdm"
   ]
  },
  {
   "cell_type": "markdown",
   "metadata": {},
   "source": [
    "Load and parse"
   ]
  },
  {
   "cell_type": "code",
   "execution_count": 3,
   "metadata": {},
   "outputs": [
    {
     "ename": "TypeError",
     "evalue": "unsupported operand type(s) for +: 'int' and 'NoneType'",
     "output_type": "error",
     "traceback": [
      "\u001b[1;31m---------------------------------------------------------------------------\u001b[0m",
      "\u001b[1;31mTypeError\u001b[0m                                 Traceback (most recent call last)",
      "\u001b[1;32m<ipython-input-3-21b49129841c>\u001b[0m in \u001b[0;36m<module>\u001b[1;34m()\u001b[0m\n\u001b[1;32m----> 1\u001b[1;33m \u001b[0msum\u001b[0m\u001b[1;33m(\u001b[0m\u001b[1;33m[\u001b[0m\u001b[1;32mNone\u001b[0m\u001b[1;33m,\u001b[0m\u001b[1;32mTrue\u001b[0m\u001b[1;33m,\u001b[0m\u001b[1;32mTrue\u001b[0m\u001b[1;33m]\u001b[0m\u001b[1;33m)\u001b[0m\u001b[1;33m\u001b[0m\u001b[0m\n\u001b[0m",
      "\u001b[1;31mTypeError\u001b[0m: unsupported operand type(s) for +: 'int' and 'NoneType'"
     ]
    }
   ],
   "source": [
    "sum([None,True,True])"
   ]
  },
  {
   "cell_type": "code",
   "execution_count": 2,
   "metadata": {
    "collapsed": true
   },
   "outputs": [],
   "source": [
    "data = pd.read_csv('../Sepsis_imp.csv')"
   ]
  },
  {
   "cell_type": "code",
   "execution_count": 3,
   "metadata": {
    "collapsed": true
   },
   "outputs": [],
   "source": [
    "replace_absurd_temperatures(data)\n",
    "data = drop_patients_with_absurd_weights(data)\n",
    "data = drop_patients_with_unrealistic_HR_or_BP(data)\n",
    "data = add_relative_time_column(data)\n",
    "data = drop_patient_with_negative_input(data)\n",
    "add_small_quantities(data)\n",
    "create_action_column(data)"
   ]
  },
  {
   "cell_type": "code",
   "execution_count": 7,
   "metadata": {},
   "outputs": [
    {
     "data": {
      "text/plain": [
       "StandardScaler(copy=True, with_mean=True, with_std=True)"
      ]
     },
     "execution_count": 7,
     "metadata": {},
     "output_type": "execute_result"
    }
   ],
   "source": [
    "from sklearn.preprocessing import StandardScaler\n",
    "log_scaler = StandardScaler()\n",
    "scaler = StandardScaler()\n",
    "train_idx, test_idx = split_train_test_idx(data)\n",
    "\n",
    "# scale on train data only\n",
    "scaler.fit(data.loc[data.icustayid.isin(train_idx)][numerical_columns_not_to_be_logged])\n",
    "log_scaler.fit(np.log(data.loc[data.icustayid.isin(train_idx)][numerical_columns_to_be_logged]))"
   ]
  },
  {
   "cell_type": "markdown",
   "metadata": {},
   "source": [
    "Matrify"
   ]
  },
  {
   "cell_type": "code",
   "execution_count": 16,
   "metadata": {},
   "outputs": [
    {
     "data": {
      "text/plain": [
       "['gender', 're_admission', 'rrt', 'mechvent', 'sedation']"
      ]
     },
     "execution_count": 16,
     "metadata": {},
     "output_type": "execute_result"
    }
   ],
   "source": [
    "binary_columns"
   ]
  },
  {
   "cell_type": "code",
   "execution_count": 15,
   "metadata": {
    "scrolled": true
   },
   "outputs": [
    {
     "name": "stderr",
     "output_type": "stream",
     "text": [
      "18100it [00:34, 526.50it/s]\n"
     ]
    }
   ],
   "source": [
    "n_cols = len(binary_columns)+len(numerical_columns_not_to_be_logged)+len(numerical_columns_to_be_logged)\n",
    "n_train = train_idx.shape[0]\n",
    "X_bin_train = np.zeros((n_train, 32, len(binary_columns)))\n",
    "X_num_train = np.zeros((n_train, 32, n_cols-len(binary_columns)))\n",
    "X_action_train = np.zeros((n_train, 32, 2))\n",
    "for k, (idx, df) in tqdm(enumerate(data.loc[data.icustayid.isin(train_idx)].groupby('icustayid'))):\n",
    "    T = len(df)\n",
    "    x_bin = df[binary_columns].values\n",
    "    # scale these\n",
    "    x_num_not_logged = scaler.transform(df[numerical_columns_not_to_be_logged])\n",
    "    x_num_logged = log_scaler.transform(np.log(df[numerical_columns_to_be_logged]))\n",
    "    x_num = np.concatenate([x_num_not_logged, x_num_logged], -1)\n",
    "    actions = df[action_cols].values\n",
    "    \n",
    "    # pad with zeros\n",
    "    x_bin = np.concatenate([x_bin, np.zeros((32-T, len(binary_columns)))], 0)\n",
    "    x_num = np.concatenate([x_num, np.zeros((32-T, n_cols-len(binary_columns)))], 0)\n",
    "    actions = np.concatenate([actions, np.zeros((32-T, 2))], 0)\n",
    "    \n",
    "    # k-th history\n",
    "    X_bin_train[k] = x_bin\n",
    "    X_num_train[k] = x_num\n",
    "    X_action_train[k] = actions"
   ]
  },
  {
   "cell_type": "code",
   "execution_count": null,
   "metadata": {
    "collapsed": true
   },
   "outputs": [],
   "source": []
  }
 ],
 "metadata": {
  "kernelspec": {
   "display_name": "Python 3",
   "language": "python",
   "name": "python3"
  },
  "language_info": {
   "codemirror_mode": {
    "name": "ipython",
    "version": 3
   },
   "file_extension": ".py",
   "mimetype": "text/x-python",
   "name": "python",
   "nbconvert_exporter": "python",
   "pygments_lexer": "ipython3",
   "version": "3.6.2"
  }
 },
 "nbformat": 4,
 "nbformat_minor": 2
}
