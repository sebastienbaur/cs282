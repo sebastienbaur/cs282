{
 "cells": [
  {
   "cell_type": "code",
   "execution_count": 1,
   "metadata": {},
   "outputs": [
    {
     "name": "stdout",
     "output_type": "stream",
     "text": [
      "ready\n"
     ]
    }
   ],
   "source": [
    "print('ready')"
   ]
  },
  {
   "cell_type": "code",
   "execution_count": 2,
   "metadata": {
    "collapsed": true
   },
   "outputs": [],
   "source": [
    "import torch as t\n",
    "from torch.nn import ReLU, SELU\n",
    "import numpy as np\n",
    "from matplotlib import pyplot as plt\n",
    "from sklearn.preprocessing import StandardScaler\n",
    "from IPython import display\n",
    "from parse_dataset import *\n",
    "from rank_based import *\n",
    "from icnn import ICNN, gradient_step_action, diff_params\n",
    "from copy import deepcopy\n",
    "from ER import *\n",
    "from utils import variable"
   ]
  },
  {
   "cell_type": "markdown",
   "metadata": {},
   "source": [
    "# Load and parse dataset"
   ]
  },
  {
   "cell_type": "code",
   "execution_count": 3,
   "metadata": {},
   "outputs": [
    {
     "data": {
      "text/plain": [
       "StandardScaler(copy=True, with_mean=True, with_std=True)"
      ]
     },
     "execution_count": 3,
     "metadata": {},
     "output_type": "execute_result"
    }
   ],
   "source": [
    "data = pd.read_csv('Sepsis_imp.csv')\n",
    "replace_absurd_temperatures(data)\n",
    "data = drop_patients_with_absurd_weights(data)\n",
    "data = drop_patients_with_unrealistic_HR_or_BP(data)\n",
    "data = add_relative_time_column(data)\n",
    "data = drop_patient_with_negative_input(data)\n",
    "add_small_quantities(data)\n",
    "create_action_column(data)\n",
    "add_log_actions(data)\n",
    "\n",
    "log_scaler = StandardScaler()\n",
    "scaler = StandardScaler()\n",
    "action_scaler = StandardScaler()\n",
    "train_idx, test_idx = split_train_test_idx(data)\n",
    "\n",
    "# scale on train data only\n",
    "scaler.fit(data.loc[data.icustayid.isin(train_idx)][numerical_columns_not_to_be_logged])\n",
    "log_scaler.fit(np.log(data.loc[data.icustayid.isin(train_idx)][numerical_columns_to_be_logged]))\n",
    "action_scaler.fit(data.loc[data.icustayid.isin(train_idx)][log_action_cols])"
   ]
  },
  {
   "cell_type": "markdown",
   "metadata": {},
   "source": [
    "Split train/test"
   ]
  },
  {
   "cell_type": "code",
   "execution_count": 4,
   "metadata": {
    "collapsed": true
   },
   "outputs": [],
   "source": [
    "train_idx, test_idx = split_train_test_idx(data)"
   ]
  },
  {
   "cell_type": "markdown",
   "metadata": {},
   "source": [
    "List of transitions `(s,a,r,s')`"
   ]
  },
  {
   "cell_type": "code",
   "execution_count": 5,
   "metadata": {
    "scrolled": true
   },
   "outputs": [],
   "source": [
    "# transitions_train = transition_iterator(data, test_idx, scaler, log_scaler, action_scaler, RMAX=15, log_action=True)\n",
    "transitions_train = transition_iterator(data, train_idx, scaler, log_scaler, action_scaler, RMAX=15, log_action=True)"
   ]
  },
  {
   "cell_type": "code",
   "execution_count": 6,
   "metadata": {
    "collapsed": true
   },
   "outputs": [],
   "source": [
    "transitions_dict = {k: {\n",
    "    's': values[0],\n",
    "    'a': values[1],\n",
    "    'r': values[2],\n",
    "    's\\'': values[3]   \n",
    "}\n",
    " for k, values in enumerate(transitions_train)\n",
    "}"
   ]
  },
  {
   "cell_type": "markdown",
   "metadata": {},
   "source": [
    "# Test maximisation de Q"
   ]
  },
  {
   "cell_type": "markdown",
   "metadata": {},
   "source": [
    "Ce bout de code est celui qui est au debut de `get_q_target`"
   ]
  },
  {
   "cell_type": "code",
   "execution_count": 7,
   "metadata": {
    "collapsed": true
   },
   "outputs": [],
   "source": [
    "icnn = ICNN(4,50)"
   ]
  },
  {
   "cell_type": "code",
   "execution_count": 8,
   "metadata": {
    "scrolled": true
   },
   "outputs": [],
   "source": [
    "next_state = t.cat([\n",
    "    variable(np.array([50*[np.nan]])),\n",
    "    variable(np.zeros((1,50)))\n",
    "]).float()\n",
    "\n",
    "\n",
    "next_state_ = []\n",
    "good = dict()\n",
    "for i, s in enumerate(next_state):\n",
    "    if not np.isnan(s.data.numpy()[0]):\n",
    "        next_state_.append(s.resize(1, 50))\n",
    "        good[i] = len(good)\n",
    "if len(good) == 0:\n",
    "    print('no good', rewards.squeeze())\n",
    "else:\n",
    "    next_state_ = t.cat(next_state_)\n",
    "    max_action = variable(np.zeros((len(next_state_), 2)), requires_grad=True).float()\n",
    "    prev_action = variable(np.zeros((len(next_state_), 2)), requires_grad=True).float()\n",
    "    input_param = t.nn.Parameter(max_action.data)\n",
    "    optimizer_for_a = t.optim.Adam([input_param], lr=1.)\n",
    "    for k in range(50):\n",
    "        max_action, input_param, optimizer_for_a = gradient_step_action(icnn, next_state_, max_action, input_param=input_param, optimizer=optimizer_for_a)\n",
    "        if np.max(np.abs(prev_action.data.numpy() - max_action.data.numpy())) < 1e-5:\n",
    "            break"
   ]
  },
  {
   "cell_type": "code",
   "execution_count": 9,
   "metadata": {
    "scrolled": true
   },
   "outputs": [
    {
     "data": {
      "text/plain": [
       "Variable containing:\n",
       "    nan\n",
       " 0.6356\n",
       "[torch.FloatTensor of size 2x1]"
      ]
     },
     "execution_count": 9,
     "metadata": {},
     "output_type": "execute_result"
    }
   ],
   "source": [
    "icnn(next_state, max_action)"
   ]
  },
  {
   "cell_type": "code",
   "execution_count": 10,
   "metadata": {
    "scrolled": true
   },
   "outputs": [
    {
     "data": {
      "image/png": "[encoded data removed]",
      "text/plain": [
       "<matplotlib.figure.Figure at 0x23b57e62b38>"
      ]
     },
     "metadata": {},
     "output_type": "display_data"
    }
   ],
   "source": [
    "actions = variable(np.array([[a,0.] for a in np.arange(-100,100,2.)])).float()\n",
    "Qvalues = icnn.forward(variable(t.zeros(100,50)), actions).data.numpy()\n",
    "plt.plot(Qvalues)\n",
    "plt.show()"
   ]
  },
  {
   "cell_type": "code",
   "execution_count": 11,
   "metadata": {},
   "outputs": [
    {
     "data": {
      "text/plain": [
       "array([ 1.18838108], dtype=float32)"
      ]
     },
     "execution_count": 11,
     "metadata": {},
     "output_type": "execute_result"
    }
   ],
   "source": [
    "max(Qvalues)"
   ]
  },
  {
   "cell_type": "markdown",
   "metadata": {},
   "source": [
    "### Build neural network\n",
    "The neural network is convex in $a$\n",
    "\n",
    "$$u_0 = x$$\n",
    "$$z_0 = a$$\n",
    "$$u_{i+1} = \\tilde{g}_i(\\tilde{W}_iu_i+b_i)$$\n",
    "$$z_{i+1} = g_i\\left(W_i^{(z)}(z_i \\cdot (W_i^{(zu)}u_i+b_i^{(z)})_+) + W_i^{(a)}(a \\cdot (W_i^{(au)}u_i+b_i^{(a)})) + W_i^{(u)}u_i+b_i\\right)$$\n",
    "with $$W_i^{(z)}\\geq 0$$\n"
   ]
  },
  {
   "cell_type": "code",
   "execution_count": null,
   "metadata": {
    "collapsed": true
   },
   "outputs": [],
   "source": [
    "icnn = ICNN(4, 50, activation=SELU())\n",
    "# icnn = ICNN(4, 50, activation=ReLU())"
   ]
  },
  {
   "cell_type": "markdown",
   "metadata": {},
   "source": [
    "# Train neural network"
   ]
  },
  {
   "cell_type": "code",
   "execution_count": null,
   "metadata": {
    "scrolled": true
   },
   "outputs": [],
   "source": [
    "q = get_experience_buffer(icnn, transitions_train)"
   ]
  },
  {
   "cell_type": "code",
   "execution_count": null,
   "metadata": {
    "collapsed": true
   },
   "outputs": [],
   "source": [
    "print('ready')"
   ]
  },
  {
   "cell_type": "code",
   "execution_count": null,
   "metadata": {
    "collapsed": true,
    "scrolled": true
   },
   "outputs": [],
   "source": [
    "from time import time\n",
    "\n",
    "# SOME DEBUGING TOOLS\n",
    "def logs(verbose, *message):\n",
    "    if verbose:\n",
    "        print(message)  \n",
    "\n",
    "debug = False\n",
    "verbose = False\n",
    "\n",
    "# INITIALIZE SOME VARIABLES\n",
    "EPOCHS = 2\n",
    "batch_size = 32\n",
    "learning_rate = 1e-2\n",
    "gamma = 1.\n",
    "losses = []\n",
    "T_UPDATE_Q = 5000\n",
    "\n",
    "# OPTIMIZER PARAMETERS\n",
    "optimizer = t.optim.Adam(list(icnn.parameters()), lr=learning_rate, weight_decay=1e-5)  # weight_decay is the coefficient of the l2 regularization (to avoid overfitting)\n",
    "max_steps = 10000\n",
    "max_steps_a = 50\n",
    "\n",
    "# INITIALIZE Q TARGET\n",
    "prev_icnn= deepcopy(icnn)\n",
    "params0 = prev_icnn.parameters()\n",
    "\n",
    "# TRAIN\n",
    "for _ in range(EPOCHS):\n",
    "    for step in range(max_steps):\n",
    "\n",
    "        # Sample batch\n",
    "        states_idx = sample(q, batch_size)\n",
    "        logs(verbose, *['states_idx', states_idx])\n",
    "\n",
    "        states = t.cat([variable(transitions_dict[idx]['s']).resize(1,50) for idx in states_idx], 0).float()\n",
    "        actions = t.cat([variable(transitions_dict[idx]['a']).resize(1,2) for idx in states_idx], 0).float()\n",
    "        rewards = variable([transitions_dict[idx]['r'] for idx in states_idx]).float()\n",
    "        next_states = t.cat([variable(transitions_dict[idx][\"s'\"]).resize(1,50) if transitions_dict[idx][\"s'\"] is not None else variable(np.array([50*[np.nan]])) for idx in states_idx]).float()\n",
    "        logs(verbose, *['states', states])\n",
    "        logs(verbose, *['actions', actions])\n",
    "        logs(verbose, *['rewards', rewards])\n",
    "        logs(verbose, *['next_states', next_states])\n",
    "\n",
    "        # Init grad (set all of them to zero)\n",
    "        optimizer.zero_grad()\n",
    "\n",
    "        # Predictions\n",
    "        Q_pred = icnn.forward(states, actions)\n",
    "        logs(verbose, *['pred', Q_pred])\n",
    "\n",
    "        # Compute target\n",
    "        Q_target = get_q_target(prev_icnn, next_states, rewards, gamma=gamma, max_steps_a=max_steps_a)\n",
    "        logs(verbose, *['target', Q_target])\n",
    "\n",
    "        # Compute loss\n",
    "        loss = (Q_pred.squeeze() - Q_target.squeeze())**2\n",
    "        logs(verbose, *['loss', loss])\n",
    "\n",
    "        # Update experience replay with new priorities\n",
    "        update_experience(q, loss, states_idx)\n",
    "\n",
    "        # Sum loss\n",
    "        loss = t.sum(loss)\n",
    "\n",
    "        # Monitoring\n",
    "        losses.append(loss.data.numpy()[0])\n",
    "\n",
    "        # check if parameters of prev_icnn stays frozen\n",
    "        assert diff_params(params0, list(prev_icnn.parameters())) < 1e-15, diff_params(params0, list(prev_icnn.parameters()))\n",
    "\n",
    "        # Save previous Q\n",
    "        if step % T_UPDATE_Q == 0:\n",
    "            prev_icnn = deepcopy(icnn)\n",
    "            params0 = [p*1 for p in prev_icnn.parameters()]\n",
    "\n",
    "        # compute gradients\n",
    "        loss.backward()\n",
    "\n",
    "        # update the weights\n",
    "        params_icnn = [p*1. for p in icnn.parameters()]\n",
    "        optimizer.step()\n",
    "        distance_new_params = diff_params(params_icnn, list(icnn.parameters())) \n",
    "        logs(verbose, *['distance_new_params', distance_new_params])\n",
    "\n",
    "        assert distance_new_params > 1e-5\n",
    "\n",
    "        # keep weights positive\n",
    "        icnn.proj()\n",
    "\n",
    "        # plot\n",
    "        if step % 500 == 0:\n",
    "            if not debug:\n",
    "                display.clear_output(wait=True)\n",
    "            plt.plot(losses[-2000:])\n",
    "            plt.show()\n",
    "\n",
    "        if debug:\n",
    "            y = input('Stop ?')\n",
    "            display.clear_output(wait=True)\n",
    "            if y == 'y':\n",
    "                break"
   ]
  },
  {
   "cell_type": "code",
   "execution_count": null,
   "metadata": {
    "collapsed": true
   },
   "outputs": [],
   "source": []
  }
 ],
 "metadata": {
  "kernelspec": {
   "display_name": "Python 3",
   "language": "python",
   "name": "python3"
  },
  "language_info": {
   "codemirror_mode": {
    "name": "ipython",
    "version": 3
   },
   "file_extension": ".py",
   "mimetype": "text/x-python",
   "name": "python",
   "nbconvert_exporter": "python",
   "pygments_lexer": "ipython3",
   "version": "3.6.1"
  }
 },
 "nbformat": 4,
 "nbformat_minor": 2
}
